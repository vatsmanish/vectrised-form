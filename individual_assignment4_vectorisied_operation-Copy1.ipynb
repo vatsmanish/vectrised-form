{
 "cells": [
  {
   "cell_type": "code",
   "execution_count": 4,
   "metadata": {},
   "outputs": [],
   "source": [
    "#Required Libraries\n",
    "import numpy as np\n",
    "import time"
   ]
  },
  {
   "cell_type": "code",
   "execution_count": 5,
   "metadata": {},
   "outputs": [],
   "source": [
    "#Let's create two arrays (consisting of some random numbers between 0 and 1)\n",
    "a = np.random.rand(100000000)\n",
    "b = np.random.rand(100000000)"
   ]
  },
  {
   "cell_type": "code",
   "execution_count": 6,
   "metadata": {},
   "outputs": [
    {
     "name": "stdout",
     "output_type": "stream",
     "text": [
      "[0.83748363 0.99849067 0.04726314 0.92817555 0.54677731 0.1691678\n",
      " 0.93909856 0.44655705 0.63153307 0.53846051]\n",
      "[0.7707279  0.54801205 0.98908208 0.89412788 0.94629925 0.71708831\n",
      " 0.76230819 0.46868344 0.77142297 0.25518751]\n"
     ]
    }
   ],
   "source": [
    "#Printing the first 10 values of the arrays\n",
    "print(a[:10])\n",
    "print(b[:10])"
   ]
  },
  {
   "cell_type": "markdown",
   "metadata": {},
   "source": [
    "### calculating the sum of all the numbers in a array"
   ]
  },
  {
   "cell_type": "code",
   "execution_count": 7,
   "metadata": {},
   "outputs": [
    {
     "name": "stdout",
     "output_type": "stream",
     "text": [
      "Using for loop: 46309.271574020386ms\n",
      "50001990.29505122\n"
     ]
    }
   ],
   "source": [
    "#Finding the sum of all the elements of the array a\n",
    "\n",
    "start = time.time()\n",
    "\n",
    "total = 0\n",
    "for i in a:\n",
    "    total = total + i\n",
    "    \n",
    "stop = time.time()\n",
    "\n",
    "\n",
    "print(\"Using for loop: \" +str(1000*(stop-start)) + \"ms\")\n",
    "print(total)"
   ]
  },
  {
   "cell_type": "code",
   "execution_count": 8,
   "metadata": {},
   "outputs": [],
   "source": [
    "#sum vector\n",
    "one = np.ones(100000000)"
   ]
  },
  {
   "cell_type": "code",
   "execution_count": 9,
   "metadata": {},
   "outputs": [
    {
     "name": "stdout",
     "output_type": "stream",
     "text": [
      "Vectorized version: 335.16383171081543ms\n",
      "50001990.29503785\n"
     ]
    }
   ],
   "source": [
    "#Using vectorised operations\n",
    "\n",
    "start = time.time()\n",
    "\n",
    "total = np.matmul(np.transpose(one), a)\n",
    "\n",
    "stop = time.time()\n",
    "\n",
    "\n",
    "print(\"Vectorized version: \" +str(1000*(stop-start)) + \"ms\")\n",
    "print(total)"
   ]
  },
  {
   "cell_type": "code",
   "execution_count": 10,
   "metadata": {},
   "outputs": [
    {
     "name": "stdout",
     "output_type": "stream",
     "text": [
      "Vectorized version: 190.04487991333008ms\n",
      "50001990.29503785\n"
     ]
    }
   ],
   "source": [
    "#Using inbuilt python function\n",
    "\n",
    "start = time.time()\n",
    "\n",
    "np.sum(a)\n",
    "\n",
    "stop = time.time()\n",
    "\n",
    "\n",
    "print(\"Vectorized version: \" +str(1000*(stop-start)) + \"ms\")\n",
    "print(total)"
   ]
  },
  {
   "cell_type": "markdown",
   "metadata": {},
   "source": [
    "### calculating the sum-product of the array a and b"
   ]
  },
  {
   "cell_type": "code",
   "execution_count": 11,
   "metadata": {},
   "outputs": [
    {
     "name": "stdout",
     "output_type": "stream",
     "text": [
      "Using for loop: 110370.75614929199ms\n",
      "24999448.095478233\n"
     ]
    }
   ],
   "source": [
    "#Using for loop\n",
    "\n",
    "start = time.time()\n",
    "\n",
    "total = 0\n",
    "for i in range(0,len(a)):\n",
    "    total = total + a[i]*b[i]\n",
    "\n",
    "stop = time.time()\n",
    "\n",
    "print(\"Using for loop: \" +str(1000*(stop-start)) + \"ms\")\n",
    "print(total)"
   ]
  },
  {
   "cell_type": "code",
   "execution_count": 12,
   "metadata": {},
   "outputs": [
    {
     "name": "stdout",
     "output_type": "stream",
     "text": [
      "Vectorised Operation: 221.67372703552246ms\n",
      "24999448.095480405\n"
     ]
    }
   ],
   "source": [
    "#Using vectorised Operation\n",
    "\n",
    "start = time.time()\n",
    "\n",
    "total = np.matmul(np.transpose(b), a)\n",
    "\n",
    "stop = time.time()\n",
    "\n",
    "print(\"Vectorised Operation: \" +str(1000*(stop-start)) + \"ms\")\n",
    "print(total)"
   ]
  },
  {
   "cell_type": "code",
   "execution_count": 13,
   "metadata": {},
   "outputs": [
    {
     "name": "stdout",
     "output_type": "stream",
     "text": [
      "Vectorised Operation: 129.0421485900879ms\n",
      "24999448.095480405\n"
     ]
    }
   ],
   "source": [
    "#Using Python built in function\n",
    "\n",
    "start = time.time()\n",
    "\n",
    "total = np.sum(np.dot(a,b))\n",
    "\n",
    "stop = time.time()\n",
    "\n",
    "print(\"Vectorised Operation: \" +str(1000*(stop-start)) + \"ms\")\n",
    "print(total)"
   ]
  },
  {
   "cell_type": "markdown",
   "metadata": {},
   "source": [
    "#### computing 2 random variable for mean,std,corelation"
   ]
  },
  {
   "cell_type": "code",
   "execution_count": 17,
   "metadata": {},
   "outputs": [],
   "source": [
    "import numpy as np\n",
    "import time\n",
    "from random import uniform"
   ]
  },
  {
   "cell_type": "code",
   "execution_count": 24,
   "metadata": {},
   "outputs": [
    {
     "name": "stdout",
     "output_type": "stream",
     "text": [
      "0.5120456929493254\n",
      "0.4896630875648393\n",
      "0.2887419755009409\n",
      "0.2924488056925565\n"
     ]
    }
   ],
   "source": [
    "a = np.random.rand(1000)\n",
    "b = np.random.rand(1000)\n",
    "print(np.mean(a))\n",
    "print(np.mean(b))\n",
    "print(np.std(a))\n",
    "print(np.std(b))"
   ]
  },
  {
   "cell_type": "code",
   "execution_count": null,
   "metadata": {},
   "outputs": [],
   "source": []
  }
 ],
 "metadata": {
  "kernelspec": {
   "display_name": "Python 3",
   "language": "python",
   "name": "python3"
  },
  "language_info": {
   "codemirror_mode": {
    "name": "ipython",
    "version": 3
   },
   "file_extension": ".py",
   "mimetype": "text/x-python",
   "name": "python",
   "nbconvert_exporter": "python",
   "pygments_lexer": "ipython3",
   "version": "3.6.4"
  }
 },
 "nbformat": 4,
 "nbformat_minor": 2
}
